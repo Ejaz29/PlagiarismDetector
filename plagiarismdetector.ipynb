{
    "cells": [
        {
            "cell_type": "code",
            "execution_count": 23,
            "metadata": {},
            "outputs": [],
            "source": [
                "import pandas as pd\n",
                "from sklearn.feature_extraction.text import TfidfVectorizer\n",
                "from sklearn.metrics.pairwise import cosine_similarity\n",
                "import os\n",
                "from nltk.tokenize import word_tokenize\n",
                "from nltk.corpus import stopwords\n",
                "import matplotlib.pyplot as plt\n",
                "import seaborn as sns\n",
                "import numpy as np\n",
                "from nltk.stem import WordNetLemmatizer\n",
                "ps=WordNetLemmatizer()"
            ]
        },
        {
            "cell_type": "code",
            "execution_count": 24,
            "metadata": {},
            "outputs": [
                {
                    "name": "stdout",
                    "output_type": "stream",
                    "text": [
                        "['fatma.txt', 'john.txt', 'juma.txt', 'output.png', 'output2.png', 'plagiarismdetector.ipynb']\n",
                        "['fatma.txt', 'john.txt', 'juma.txt']\n",
                        "['Life best trying find work taking time trying pursue skill ', 'Life finding money spending luxury stuff Coz life kinda short , trust ', 'Life finding money use thing make happy coz life kinda short ']\n",
                        "['best', 'coz', 'find', 'finding', 'happy', 'kinda', 'life', 'luxury', 'make', 'money', 'pursue', 'short', 'skill', 'spending', 'stuff', 'taking', 'thing', 'time', 'trust', 'trying', 'use', 'work']\n",
                        "[[0.29684142 0.         0.29684142 0.         0.         0.\n",
                        "  0.17531933 0.         0.         0.         0.29684142 0.\n",
                        "  0.29684142 0.         0.         0.29684142 0.         0.29684142\n",
                        "  0.         0.59368285 0.         0.29684142]\n",
                        " [0.         0.26418444 0.         0.26418444 0.         0.26418444\n",
                        "  0.41032556 0.34737079 0.         0.26418444 0.         0.26418444\n",
                        "  0.         0.34737079 0.34737079 0.         0.         0.\n",
                        "  0.34737079 0.         0.         0.        ]\n",
                        " [0.         0.26418444 0.         0.26418444 0.34737079 0.26418444\n",
                        "  0.41032556 0.         0.34737079 0.26418444 0.         0.26418444\n",
                        "  0.         0.         0.         0.         0.34737079 0.\n",
                        "  0.         0.         0.34737079 0.        ]]\n",
                        "           best       coz      find   finding     happy     kinda      life  \\\n",
                        "doc_1  0.296841  0.000000  0.296841  0.000000  0.000000  0.000000  0.175319   \n",
                        "doc_2  0.000000  0.264184  0.000000  0.264184  0.000000  0.264184  0.410326   \n",
                        "doc_3  0.000000  0.264184  0.000000  0.264184  0.347371  0.264184  0.410326   \n",
                        "\n",
                        "         luxury      make     money  ...     skill  spending     stuff  \\\n",
                        "doc_1  0.000000  0.000000  0.000000  ...  0.296841  0.000000  0.000000   \n",
                        "doc_2  0.347371  0.000000  0.264184  ...  0.000000  0.347371  0.347371   \n",
                        "doc_3  0.000000  0.347371  0.264184  ...  0.000000  0.000000  0.000000   \n",
                        "\n",
                        "         taking     thing      time     trust    trying       use      work  \n",
                        "doc_1  0.296841  0.000000  0.296841  0.000000  0.593683  0.000000  0.296841  \n",
                        "doc_2  0.000000  0.000000  0.000000  0.347371  0.000000  0.000000  0.000000  \n",
                        "doc_3  0.000000  0.347371  0.000000  0.000000  0.000000  0.347371  0.000000  \n",
                        "\n",
                        "[3 rows x 22 columns]\n",
                        "           fatma.txt  john.txt  juma.txt\n",
                        "fatma.txt   1.000000  0.071938  0.071938\n",
                        "john.txt    0.071938  1.000000  0.517334\n",
                        "juma.txt    0.071938  0.517334  1.000000\n"
                    ]
                }
            ],
            "source": [
                "try:\n",
                "    # Takes the path of the input folder\n",
                "    input_path=input(\"Enter the path of folder\\n\")\n",
                "    #changing the path of the folder to input folder\n",
                "    input_path_files=os.listdir(os.chdir(input_path))\n",
                "    print(input_path_files)\n",
                "    #only those files will be considered which are txt files.so we search for txt files and store them.\n",
                "    files=[docfile for docfile in input_path_files if docfile.endswith('.txt')]\n",
                "    print(files)\n",
                "    sentences=[]\n",
                "    #stopwords are words such as the,a and,etc.Those will be removed\n",
                "    stop_words=set(stopwords.words('english'))\n",
                "    for i in files:\n",
                "        string=\"\"\n",
                "        #Open the file in read mode.\n",
                "        file_open=open(i,'r',encoding='cp437',errors=\"ignore\")\n",
                "        #The matter of the file will be divided into tokens.\n",
                "        file_tokens=word_tokenize(file_open.read())\n",
                "        #symbols will be removed as well.\n",
                "        symbols = \"!\\\"#$%&()*+-./:;<=>?@[\\]^_`{|}~\\n\"\n",
                "        for i in symbols:\n",
                "            file_tokens = np.char.replace(file_tokens, i, '')\n",
                "        lemmatized_word_tokens=[]\n",
                "        #tokens now will be lemmatized. Lemmatization means that words will be converted to base words such as\n",
                "        # running becomes run etc.\n",
                "        for i in file_tokens:\n",
                "            lemmatized_word_tokens.append(ps.lemmatize(i))\n",
                "        # after lemmatizing the words will be joined as string and stored in array\n",
                "        for j in lemmatized_word_tokens:\n",
                "            if j not in stop_words:\n",
                "                string=string+j+\" \"\n",
                "        sentences.append(string)\n",
                "    print(sentences)\n",
                "    # TF-IDF stands for Term Frequency — Inverse Document Frequency\n",
                "    # This is performed by looking at how many times a word appears into a document\n",
                "    Tfidf_vect = TfidfVectorizer()\n",
                "    vector_matrix = Tfidf_vect.fit_transform(words)\n",
                "    tokens = Tfidf_vect.get_feature_names()\n",
                "    # It displays the names of the words\n",
                "    print(tokens)\n",
                "    # It displays the frequnecy of the words\n",
                "    print(vector_matrix.toarray())\n",
                "    # This function returns the frequency of words respective to that word \n",
                "    def create_dataframe(matrix, tokens):\n",
                "        doc_names = [f'doc_{i+1}' for i, _ in enumerate(matrix)]\n",
                "        df = pd.DataFrame(data=matrix,index=doc_names, columns=tokens)\n",
                "        return(df)\n",
                "    print(create_dataframe(vector_matrix.toarray(),tokens))\n",
                "    # It is used to calculate the frequency of the words from all the text files that are present in the input location\n",
                "    cosine_similarity_matrix = cosine_similarity(vector_matrix)\n",
                "    # This function returns the file name and the similarity between other files.\n",
                "    def create_dataframe1(matrix, tokens):\n",
                "        df1 = pd.DataFrame(data=matrix,index=tokens, columns=tokens)\n",
                "        return(df1)\n",
                "    ans=create_dataframe1(cosine_similarity_matrix,files)\n",
                "    print(ans)\n",
                "except Exception as e:\n",
                "    print(e)"
            ]
        },
        {
            "cell_type": "code",
            "execution_count": 25,
            "metadata": {},
            "outputs": [
                {
                    "name": "stdout",
                    "output_type": "stream",
                    "text": [
                        "AxesSubplot(0.125,0.125;0.62x0.755)\n"
                    ]
                },
                {
                    "data": {
                        "text/plain": [
                            "[Text(0, 0.5, 'fatma.txt'), Text(0, 1.5, 'john.txt'), Text(0, 2.5, 'juma.txt')]"
                        ]
                    },
                    "execution_count": 25,
                    "metadata": {},
                    "output_type": "execute_result"
                },
                {
                    "data": {
                        "image/png": "[encoded data removed]",
                        "text/plain": [
                            "<Figure size 2160x1080 with 2 Axes>"
                        ]
                    },
                    "metadata": {
                        "needs_background": "light"
                    },
                    "output_type": "display_data"
                }
            ],
            "source": [
                "# Now that similarity is represented visually using heatmap.\n",
                "res=sns.heatmap(ans,linewidths=3,linecolor=\"black\",cmap=\"Purples\",annot=True,annot_kws={'size':15})\n",
                "plt.gcf().set_size_inches(30, 15)\n",
                "print(res)\n",
                "res.set_xticklabels(res.get_xmajorticklabels(), fontsize = 15)\n",
                "res.set_yticklabels(res.get_ymajorticklabels(), fontsize = 15)\n",
                "\n"
            ]
        }
    ],
    "metadata": {
        "interpreter": {
            "hash": "8443d64e89c3d71fb89800f84728e8a92d1d900092880e2c21e578dadfb4e9c7"
        },
        "kernelspec": {
            "display_name": "Python 3.9.5 64-bit",
            "name": "python3"
        },
        "language_info": {
            "codemirror_mode": {
                "name": "ipython",
                "version": 3
            },
            "file_extension": ".py",
            "mimetype": "text/x-python",
            "name": "python",
            "nbconvert_exporter": "python",
            "pygments_lexer": "ipython3",
            "version": "3.9.5"
        },
        "orig_nbformat": 4
    },
    "nbformat": 4,
    "nbformat_minor": 2
}
